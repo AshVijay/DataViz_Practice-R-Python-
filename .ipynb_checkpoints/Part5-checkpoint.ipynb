{
 "cells": [
  {
   "cell_type": "code",
   "execution_count": 2,
   "metadata": {},
   "outputs": [
    {
     "name": "stdout",
     "output_type": "stream",
     "text": [
      "ABC\n",
      "ABC\t\n",
      " ABC\n",
      "AB\n"
     ]
    }
   ],
   "source": [
    "# page 51\n",
    "\n",
    "print(\"ABC\\t\".strip())\n",
    "print(\" ABC\\t\".lstrip())\n",
    "print(\" ABC\\t\".rstrip())\n",
    "print(\"ABC\".strip(\"C\"))"
   ]
  },
  {
   "cell_type": "code",
   "execution_count": 6,
   "metadata": {},
   "outputs": [
    {
     "name": "stdout",
     "output_type": "stream",
     "text": [
      "abcÿ\n"
     ]
    }
   ],
   "source": [
    "s = \"abc\\xFF\"\n",
    "print(s) # Note how last character isn’t a letter\n",
    "#print(s.decode(\"ascii\", \"ignore\"))"
   ]
  },
  {
   "cell_type": "code",
   "execution_count": 22,
   "metadata": {},
   "outputs": [
    {
     "name": "stdout",
     "output_type": "stream",
     "text": [
      "1985-08-13 00:00:00\n",
      "1985-08-13 00:00:00\n",
      "2013-08-13 00:00:00\n",
      "2013-08-13 00:00:00\n",
      "2013-08-13 04:15:00\n",
      "2013-08-13 04:15:00\n"
     ]
    }
   ],
   "source": [
    "# page 53\n",
    "\n",
    "import datetime\n",
    "import dateutil.parser as p\n",
    "print(p.parse(\"August 13, 1985\"))\n",
    "print(datetime.datetime(1985, 8, 13, 0, 0))\n",
    "print(p.parse(\"2013-8-13\"))\n",
    "print(datetime.datetime(2013, 8, 13, 0, 0))\n",
    "print(p.parse(\"2013-8-13 4:15am\"))\n",
    "print(datetime.datetime(2013, 8, 13, 4, 15))"
   ]
  },
  {
   "cell_type": "code",
   "execution_count": 11,
   "metadata": {
    "collapsed": true
   },
   "outputs": [],
   "source": [
    "# page 54\n",
    "\n",
    "def get_first_last_name(s):\n",
    "    INVALID_NAME_PARTS = [\"mr\", \"ms\", \"mrs\",\"dr\", \"jr\", \"sir\"]\n",
    "    parts = s.lower().replace(\".\",\"\").strip().split()\n",
    "    parts = [p for p in parts if p not in INVALID_NAME_PARTS]\n",
    "    if len(parts)==0:\n",
    "        raise ValueError(\"Name %s is formatted wrong\" % s)\n",
    "    first, last = parts[0], parts[-1]\n",
    "    first = first[0].upper() + first[1:]\n",
    "    last = last[0].upper() + last[1:]\n",
    "    return first, last\n",
    "\n",
    "def format_age(s):\n",
    "    chars = list(s) # list of characters\n",
    "    digit_chars = [c for c in chars if c.isdigit()]\n",
    "    return int(\"\".join(digit_chars))\n",
    "def format_date(s):\n",
    "    MONTH_MAP = {\"jan\": \"01\", \"feb\": \"02\", \"may\": \"03\"}\n",
    "    s = s.strip().lower().replace(\",\", \"\")\n",
    "    m, d, y = s.split()\n",
    "    if len(y) == 2: y = \"19\" + y\n",
    "    if len(d) == 1: d = \"0\" + d\n",
    "    return y + \"-\" + MONTH_MAP[m[:3]] + \"-\" + d\n",
    "\n",
    "import pandas as pd\n",
    "#df = pd.read_csv(\"file.tsv\", sep=\"|\")\n",
    "#df[\"First Name\"] = df[\"Name\"].apply(lambda s: get_first_last_name(s)[0])\n",
    "#df[\"Last Name\"] = df[\"Name\"].apply(lambda s: get_first_last_name(s)[1])\n",
    "#df[\"Age\"] = df[\"Age\"].apply(format_age)\n",
    "#df[\"Birthdate\"] = df[\"Birthdate\"].apply(format_date).astype(pd.datetime)\n",
    "#print(df)"
   ]
  },
  {
   "cell_type": "code",
   "execution_count": 16,
   "metadata": {
    "collapsed": true
   },
   "outputs": [],
   "source": [
    "# page 58\n",
    "\n",
    "import re\n",
    "# This matches \"1600 Pennsylvania Ave.\"\n",
    "# It does NOT match \"5 Stony Brook St\"\n",
    "# cuz there is a space in \"Stony Brook\"\n",
    "street_pattern = r\"^[0-9]\\s[A-Z][a-z]*\" + \\\n",
    " r\"(Street|St|Rd|Road|Ave|Avenue|Blvd|Way|Wy)\\.?$\"\n",
    "# Like the one above, this assumes\n",
    "# there is no space in the town name\n",
    "city_pattern = r\"^[A-Z][a-z]*,\\s[A-Z]{2},[0-9]{5}$\"\n",
    "address_pattern = street_pattern + r\"\\n\" \\\n",
    " + city_pattern\n",
    "# Compile the string into a regular expression object\n",
    "address_re = re.compile(address_pattern)\n",
    "#text = open(\"some_file.txt\", \"r\").read()\n",
    "#matches = re.findall(address_re, text)\n",
    "# list of all strings that match\n",
    "#open(\"addresses_w_space_between.txt\", \"w\").write(\"\\n\\n\".join(matches))\n",
    "\n",
    "pattern = \"\\n\"\n",
    "my_re = re.compile(pattern) # trying to match a newline\n",
    "\n",
    "# Escape the slash w another\n",
    "# slash pattern = \"\\\\n\"\n",
    "# This matches a newline\n",
    "newline_re = re.compile(pattern)"
   ]
  }
 ],
 "metadata": {
  "kernelspec": {
   "display_name": "Python 2",
   "language": "python",
   "name": "python2"
  },
  "language_info": {
   "codemirror_mode": {
    "name": "ipython",
    "version": 2
   },
   "file_extension": ".py",
   "mimetype": "text/x-python",
   "name": "python",
   "nbconvert_exporter": "python",
   "pygments_lexer": "ipython2",
   "version": "2.7.16"
  }
 },
 "nbformat": 4,
 "nbformat_minor": 2
}
